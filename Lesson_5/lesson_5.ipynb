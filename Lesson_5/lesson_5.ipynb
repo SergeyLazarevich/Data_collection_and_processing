{
 "metadata": {
  "language_info": {
   "codemirror_mode": {
    "name": "ipython",
    "version": 3
   },
   "file_extension": ".py",
   "mimetype": "text/x-python",
   "name": "python",
   "nbconvert_exporter": "python",
   "pygments_lexer": "ipython3",
   "version": "3.8.10"
  },
  "orig_nbformat": 2,
  "kernelspec": {
   "name": "python3",
   "display_name": "Python 3.8.10 64-bit"
  },
  "interpreter": {
   "hash": "6ade3e7aac465f864a6e70e76d6ad747bccbdaae49928e31e964f86f87611c7f"
  }
 },
 "nbformat": 4,
 "nbformat_minor": 2,
 "cells": [
  {
   "cell_type": "code",
   "execution_count": 1,
   "source": [
    "#1) Написать программу, которая собирает входящие письма из своего или тестового почтового ящика и сложить \r\n",
    "# данные о письмах в базу данных (от кого, дата отправки, тема письма, текст письма полный)\r\n",
    "#Логин тестового ящика: study.ai_172@mail.ru\r\n",
    "#Пароль тестового ящика: NextPassword172!?"
   ],
   "outputs": [],
   "metadata": {}
  },
  {
   "cell_type": "code",
   "execution_count": 2,
   "source": [
    "from selenium import webdriver\r\n",
    "from selenium.webdriver.chrome.options import Options\r\n",
    "from selenium.webdriver.common.action_chains import ActionChains\r\n",
    "from pymongo import MongoClient\r\n",
    "from selenium.webdriver.common.keys import Keys\r\n",
    "from selenium.webdriver.support.ui import WebDriverWait\r\n",
    "from selenium.webdriver.support import expected_conditions as EC\r\n",
    "from selenium.webdriver.common.by import By\r\n",
    "import hashlib\r\n",
    "from random import getrandbits\r\n",
    "from time import sleep"
   ],
   "outputs": [],
   "metadata": {}
  },
  {
   "cell_type": "code",
   "execution_count": 3,
   "source": [
    "#Инициализация вебдрайвера\r\n",
    "options = Options()\r\n",
    "options.add_argument(\"start-maximized\")\r\n",
    "driver = webdriver.Chrome(executable_path='./chromedriver', options=options)\r\n",
    "driver.get('https://mail.ru/')"
   ],
   "outputs": [],
   "metadata": {}
  },
  {
   "cell_type": "code",
   "execution_count": 4,
   "source": [
    "#Авторизация\r\n",
    "wait = WebDriverWait(driver, 10)\r\n",
    "name_wait = wait.until(EC.presence_of_element_located((By.NAME, 'login')))\r\n",
    "login = driver.find_element_by_name('login')\r\n",
    "login.send_keys('study.ai_172@mail.ru')\r\n",
    "login.send_keys(Keys.ENTER)\r\n",
    "sleep(.5)\r\n",
    "wait = WebDriverWait(driver, 10)\r\n",
    "name_wait = wait.until(EC.presence_of_element_located((By.NAME, 'password')))\r\n",
    "password = driver.find_element_by_name('password')\r\n",
    "password.send_keys('NextPassword172!?')\r\n",
    "password.send_keys(Keys.ENTER)"
   ],
   "outputs": [],
   "metadata": {}
  },
  {
   "cell_type": "code",
   "execution_count": 5,
   "source": [
    "#список сообщений\r\n",
    "messages_link = set()"
   ],
   "outputs": [],
   "metadata": {}
  },
  {
   "cell_type": "code",
   "execution_count": 6,
   "source": [
    "#заполним список ссылками\r\n",
    "while True:\r\n",
    "    flag = len(messages_link)\r\n",
    "    try:\r\n",
    "        wait = WebDriverWait(driver, 10)\r\n",
    "        button_wait = wait.until(EC.presence_of_element_located((By.CLASS_NAME, 'dataset__items')))\r\n",
    "    except: continue\r\n",
    "    messages_block = driver.find_element_by_class_name('dataset__items')\r\n",
    "    messages = messages_block.find_elements_by_tag_name('a')\r\n",
    "    #добавим новые сообщения\r\n",
    "    for message in messages:\r\n",
    "        link = message.get_attribute('href')\r\n",
    "        if (link is not None) and ('e.mail' in link):\r\n",
    "            messages_link.add(link)\r\n",
    "    #если не чего не добавилось то выходим\r\n",
    "    if flag == len(messages_link): break\r\n",
    "    # Прокрутим вниз\r\n",
    "    actions = ActionChains(driver)\r\n",
    "    actions.move_to_element(messages[-1])\r\n",
    "    actions.perform()\r\n"
   ],
   "outputs": [],
   "metadata": {}
  },
  {
   "cell_type": "code",
   "execution_count": 7,
   "source": [
    "len(messages_link)"
   ],
   "outputs": [
    {
     "output_type": "execute_result",
     "data": {
      "text/plain": [
       "912"
      ]
     },
     "metadata": {},
     "execution_count": 7
    }
   ],
   "metadata": {}
  },
  {
   "cell_type": "code",
   "execution_count": 8,
   "source": [
    "#Словарь писем\r\n",
    "info_emails = []\r\n",
    "# обрабатываем письма\r\n",
    "for link in messages_link:\r\n",
    "    info_email = {}\r\n",
    "    driver.get(link)\r\n",
    "    try:\r\n",
    "        wait = WebDriverWait(driver, 10)\r\n",
    "        button_wait = wait.until(EC.presence_of_element_located((By.CLASS_NAME, 'letter__date')))\r\n",
    "        info_email['date'] = driver.find_element_by_class_name('letter__date').text\r\n",
    "        info_email['name'] = driver.find_element_by_class_name('letter-contact').text\r\n",
    "        info_email['name_email'] = driver.find_element_by_class_name('letter-contact').get_attribute('title')\r\n",
    "        info_email['topic'] = driver.find_element_by_tag_name('h2').text\r\n",
    "        info_email['text'] = driver.find_element_by_class_name('letter__body').text\r\n",
    "        info_email['_id'] =  hashlib.sha1(str(getrandbits(160)).encode()).hexdigest()\r\n",
    "        info_emails.append(info_email)\r\n",
    "    except: continue\r\n"
   ],
   "outputs": [],
   "metadata": {}
  },
  {
   "cell_type": "code",
   "execution_count": 9,
   "source": [
    "#Сложим собранные данные в БД\r\n",
    "client = MongoClient('localhost', 27017)\r\n",
    "db = client['emails_database']\r\n",
    "collections = db.messages\r\n",
    "for item in info_emails:\r\n",
    "    collections.update_one({ '_id': { '$eq':  item['_id']}}, {'$set': item}, upsert=True)"
   ],
   "outputs": [],
   "metadata": {}
  },
  {
   "cell_type": "code",
   "execution_count": 10,
   "source": [
    "driver.close()"
   ],
   "outputs": [],
   "metadata": {}
  },
  {
   "cell_type": "code",
   "execution_count": 11,
   "source": [
    "collections.delete_many({})"
   ],
   "outputs": [
    {
     "output_type": "execute_result",
     "data": {
      "text/plain": [
       "<pymongo.results.DeleteResult at 0x24a1e1326c0>"
      ]
     },
     "metadata": {},
     "execution_count": 11
    }
   ],
   "metadata": {}
  }
 ]
}